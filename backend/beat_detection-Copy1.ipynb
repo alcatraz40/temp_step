{
 "cells": [
  {
   "cell_type": "code",
   "execution_count": 1,
   "id": "21f4d534-e0df-404b-afda-a2a3e9d5f525",
   "metadata": {
    "execution": {
     "iopub.execute_input": "2025-01-21T19:26:43.517475Z",
     "iopub.status.busy": "2025-01-21T19:26:43.517285Z",
     "iopub.status.idle": "2025-01-21T19:26:44.867333Z",
     "shell.execute_reply": "2025-01-21T19:26:44.866648Z",
     "shell.execute_reply.started": "2025-01-21T19:26:43.517455Z"
    }
   },
   "outputs": [],
   "source": [
    "import numpy as np\n",
    "import librosa\n",
    "import matplotlib.pyplot as plt\n",
    "import seaborn as sns\n",
    "from IPython.display import Audio"
   ]
  },
  {
   "cell_type": "code",
   "execution_count": 2,
   "id": "3adc10a8-9e0a-4ae1-a18d-848a4b4df619",
   "metadata": {
    "execution": {
     "iopub.execute_input": "2025-01-21T19:26:44.869348Z",
     "iopub.status.busy": "2025-01-21T19:26:44.868954Z",
     "iopub.status.idle": "2025-01-21T19:26:44.872672Z",
     "shell.execute_reply": "2025-01-21T19:26:44.872047Z",
     "shell.execute_reply.started": "2025-01-21T19:26:44.869323Z"
    }
   },
   "outputs": [],
   "source": [
    "from IPython.display import Audio\n",
    "import numpy as np\n",
    "import librosa"
   ]
  },
  {
   "cell_type": "markdown",
   "id": "ec85262c-7177-4f39-a786-fc4c5bd5011b",
   "metadata": {},
   "source": [
    "## Decompose Music"
   ]
  },
  {
   "cell_type": "code",
   "execution_count": 3,
   "id": "2fd248ff-e0f1-43fc-84a3-2ccc84095b33",
   "metadata": {
    "execution": {
     "iopub.execute_input": "2025-01-21T19:27:00.440372Z",
     "iopub.status.busy": "2025-01-21T19:27:00.439682Z",
     "iopub.status.idle": "2025-01-21T19:27:00.443835Z",
     "shell.execute_reply": "2025-01-21T19:27:00.443141Z",
     "shell.execute_reply.started": "2025-01-21T19:27:00.440341Z"
    }
   },
   "outputs": [],
   "source": [
    "file_name = \"/data/omkar/beat_detection/decomposition/Atif Aslam： Pehli Dafa Song (Video) ｜ Ileana D’Cruz ｜ Latest Hindi Song 2017 ｜ T-Series.wav\""
   ]
  },
  {
   "cell_type": "code",
   "execution_count": 4,
   "id": "83b9baf7-3284-41fa-9f2b-36560db9bd90",
   "metadata": {
    "execution": {
     "iopub.execute_input": "2025-01-21T19:27:00.795927Z",
     "iopub.status.busy": "2025-01-21T19:27:00.795068Z",
     "iopub.status.idle": "2025-01-21T19:27:00.799437Z",
     "shell.execute_reply": "2025-01-21T19:27:00.798722Z",
     "shell.execute_reply.started": "2025-01-21T19:27:00.795896Z"
    }
   },
   "outputs": [],
   "source": [
    "song_name = file_name.split(\"/\")[-1]\n",
    "inst_name = f\"{song_name.split('.wav')[0].split('.mp3')[0]}_(Instrumental)_model_mel_band_roformer_ep_3005_sdr_11.wav\"\n",
    "vocs_name = f\"{song_name.split('.wav')[0].split('.mp3')[0]}_(Vocals)_model_mel_band_roformer_ep_3005_sdr_11.wav\""
   ]
  },
  {
   "cell_type": "code",
   "execution_count": 5,
   "id": "b400e672-b7f6-40be-afa4-e62a35ae38d8",
   "metadata": {
    "execution": {
     "iopub.execute_input": "2025-01-21T19:27:03.555299Z",
     "iopub.status.busy": "2025-01-21T19:27:03.554651Z",
     "iopub.status.idle": "2025-01-21T19:27:03.559638Z",
     "shell.execute_reply": "2025-01-21T19:27:03.558931Z",
     "shell.execute_reply.started": "2025-01-21T19:27:03.555268Z"
    }
   },
   "outputs": [
    {
     "data": {
      "text/plain": [
       "'Atif Aslam： Pehli Dafa Song (Video) ｜ Ileana D’Cruz ｜ Latest Hindi Song 2017 ｜ T-Series_(Instrumental)_model_mel_band_roformer_ep_3005_sdr_11.wav'"
      ]
     },
     "execution_count": 5,
     "metadata": {},
     "output_type": "execute_result"
    }
   ],
   "source": [
    "inst_name"
   ]
  },
  {
   "cell_type": "code",
   "execution_count": 107,
   "id": "35acaa23-433b-4996-94f1-574abaa2cec6",
   "metadata": {
    "execution": {
     "iopub.execute_input": "2025-01-19T18:26:10.395795Z",
     "iopub.status.busy": "2025-01-19T18:26:10.395398Z",
     "iopub.status.idle": "2025-01-19T18:27:42.886720Z",
     "shell.execute_reply": "2025-01-19T18:27:42.885996Z",
     "shell.execute_reply.started": "2025-01-19T18:26:10.395765Z"
    }
   },
   "outputs": [
    {
     "name": "stderr",
     "output_type": "stream",
     "text": [
      "2025-01-19 18:26:10,400 - INFO - separator - Separator version 0.28.5 instantiating with output_dir: None, output_format: WAV\n",
      "2025-01-19 18:26:10,400 - INFO - separator - Output directory not specified. Using current working directory.\n",
      "2025-01-19 18:26:10,401 - INFO - separator - Operating System: Linux #17~22.04.1-Ubuntu SMP Tue Sep  3 16:11:52 UTC 2024\n",
      "2025-01-19 18:26:10,402 - INFO - separator - System: Linux Node: ml-platform-prod-dev-002 Release: 6.8.0-1015-gcp Machine: x86_64 Proc: x86_64\n",
      "2025-01-19 18:26:10,403 - INFO - separator - Python Version: 3.10.16\n",
      "2025-01-19 18:26:10,404 - INFO - separator - PyTorch Version: 2.4.1+cu121\n",
      "2025-01-19 18:26:10,416 - INFO - separator - FFmpeg installed: ffmpeg version 4.3 Copyright (c) 2000-2020 the FFmpeg developers\n",
      "2025-01-19 18:26:10,418 - INFO - separator - ONNX Runtime GPU package installed with version: 1.20.1\n",
      "2025-01-19 18:26:10,418 - INFO - separator - CUDA is available in Torch, setting Torch device to CUDA\n",
      "2025-01-19 18:26:10,419 - INFO - separator - ONNXruntime has CUDAExecutionProvider available, enabling acceleration\n",
      "2025-01-19 18:26:10,420 - INFO - separator - Loading model model_mel_band_roformer_ep_3005_sdr_11.4360.ckpt...\n",
      "2025-01-19 18:26:12,849 - INFO - mdxc_separator - MDXC Separator initialisation complete\n",
      "2025-01-19 18:26:12,850 - INFO - separator - Load model duration: 00:00:02\n",
      "2025-01-19 18:26:12,851 - INFO - separator - Starting separation process for audio_file_path: /data/omkar/beat_detection/decomposition/Atif Aslam： Pehli Dafa Song (Video) ｜ Ileana D’Cruz ｜ Latest Hindi Song 2017 ｜ T-Series.wav\n",
      "100%|█████████████████████████████████████████████████████████████████████████████████████████████████████████████████████████████████████████████████████████████████████████████████████████| 36/36 [01:28<00:00,  2.45s/it]\n",
      "2025-01-19 18:27:41,955 - INFO - mdxc_separator - Saving Instrumental stem to Atif Aslam： Pehli Dafa Song (Video) ｜ Ileana D’Cruz ｜ Latest Hindi Song 2017 ｜ T-Series_(Instrumental)_model_mel_band_roformer_ep_3005_sdr_11.wav...\n",
      "2025-01-19 18:27:41,975 - INFO - common_separator - Audio duration is 0.08 hours (282.29 seconds).\n",
      "2025-01-19 18:27:41,975 - INFO - common_separator - Using pydub for writing.\n",
      "2025-01-19 18:27:42,218 - INFO - mdxc_separator - Saving Vocals stem to Atif Aslam： Pehli Dafa Song (Video) ｜ Ileana D’Cruz ｜ Latest Hindi Song 2017 ｜ T-Series_(Vocals)_model_mel_band_roformer_ep_3005_sdr_11.wav...\n",
      "2025-01-19 18:27:42,237 - INFO - common_separator - Audio duration is 0.08 hours (282.29 seconds).\n",
      "2025-01-19 18:27:42,238 - INFO - common_separator - Using pydub for writing.\n",
      "2025-01-19 18:27:42,882 - INFO - common_separator - Clearing input audio file paths, sources and stems...\n",
      "2025-01-19 18:27:42,883 - INFO - separator - Separation duration: 00:01:30\n"
     ]
    },
    {
     "name": "stdout",
     "output_type": "stream",
     "text": [
      "Separation complete! Output file(s): Atif Aslam： Pehli Dafa Song (Video) ｜ Ileana D’Cruz ｜ Latest Hindi Song 2017 ｜ T-Series_(Instrumental)_model_mel_band_roformer_ep_3005_sdr_11.wav Atif Aslam： Pehli Dafa Song (Video) ｜ Ileana D’Cruz ｜ Latest Hindi Song 2017 ｜ T-Series_(Vocals)_model_mel_band_roformer_ep_3005_sdr_11.wav\n"
     ]
    }
   ],
   "source": [
    "from audio_separator.separator import Separator\n",
    "\n",
    "# Initialize the Separator class (with optional configuration properties, below)\n",
    "separator = Separator()\n",
    "\n",
    "# Load a machine learning model (if unspecified, defaults to 'model_mel_band_roformer_ep_3005_sdr_11.4360.ckpt')\n",
    "separator.load_model()\n",
    "\n",
    "# Perform the separation on specific audio files without reloading the model\n",
    "output_files = separator.separate(file_name)\n",
    "\n",
    "print(f\"Separation complete! Output file(s): {' '.join(output_files)}\")"
   ]
  },
  {
   "cell_type": "code",
   "execution_count": 10,
   "id": "8e903c5d-2fee-4a14-b7b8-1c880b79f95b",
   "metadata": {
    "execution": {
     "iopub.execute_input": "2025-01-21T19:29:46.338567Z",
     "iopub.status.busy": "2025-01-21T19:29:46.337717Z",
     "iopub.status.idle": "2025-01-21T19:29:46.341698Z",
     "shell.execute_reply": "2025-01-21T19:29:46.340900Z",
     "shell.execute_reply.started": "2025-01-21T19:29:46.338528Z"
    }
   },
   "outputs": [],
   "source": [
    "vocal_file = vocs_name\n",
    "instrumental_file = inst_name"
   ]
  },
  {
   "cell_type": "markdown",
   "id": "2c286cc3-1e29-4ab3-bd9b-2b32c53d6a78",
   "metadata": {},
   "source": [
    "### Transformations"
   ]
  },
  {
   "cell_type": "code",
   "execution_count": 11,
   "id": "32bf511a-42cc-4ea7-954a-96dc0026417e",
   "metadata": {
    "execution": {
     "iopub.execute_input": "2025-01-21T19:29:48.359200Z",
     "iopub.status.busy": "2025-01-21T19:29:48.358336Z",
     "iopub.status.idle": "2025-01-21T19:29:49.100009Z",
     "shell.execute_reply": "2025-01-21T19:29:49.099155Z",
     "shell.execute_reply.started": "2025-01-21T19:29:48.359167Z"
    }
   },
   "outputs": [],
   "source": [
    "audio, sr = librosa.load(instrumental_file)"
   ]
  },
  {
   "cell_type": "code",
   "execution_count": 12,
   "id": "f6f71f74-cc8b-49b7-89ec-ea8531e83706",
   "metadata": {
    "execution": {
     "iopub.execute_input": "2025-01-21T19:29:49.109395Z",
     "iopub.status.busy": "2025-01-21T19:29:49.109148Z",
     "iopub.status.idle": "2025-01-21T19:29:49.505809Z",
     "shell.execute_reply": "2025-01-21T19:29:49.504951Z",
     "shell.execute_reply.started": "2025-01-21T19:29:49.109371Z"
    }
   },
   "outputs": [],
   "source": [
    "# Log spectrogram:\n",
    "spec = librosa.stft(audio)\n",
    "log_spec = librosa.amplitude_to_db(np.abs(spec))"
   ]
  },
  {
   "cell_type": "code",
   "execution_count": 13,
   "id": "35cb45a6-9ea3-4d74-8c07-6c91ec445f40",
   "metadata": {
    "execution": {
     "iopub.execute_input": "2025-01-21T19:29:58.861244Z",
     "iopub.status.busy": "2025-01-21T19:29:58.860316Z",
     "iopub.status.idle": "2025-01-21T19:30:14.541371Z",
     "shell.execute_reply": "2025-01-21T19:30:14.540578Z",
     "shell.execute_reply.started": "2025-01-21T19:29:58.861212Z"
    }
   },
   "outputs": [],
   "source": [
    "y_harmonic, y_percussive = librosa.effects.hpss(audio)\n",
    "# plt.figure(figsize=(15, 5))\n",
    "# librosa.display.waveshow(y_harmonic, sr=sr, alpha=0.25)\n",
    "# librosa.display.waveshow(y_percussive, sr=sr, color='r', alpha=0.5)\n",
    "# plt.title('Harmonic + Percussive')"
   ]
  },
  {
   "cell_type": "code",
   "execution_count": 14,
   "id": "9d7cec63-2578-45db-8188-44cf1c7c4d7a",
   "metadata": {
    "execution": {
     "iopub.execute_input": "2025-01-21T19:30:14.555224Z",
     "iopub.status.busy": "2025-01-21T19:30:14.554946Z",
     "iopub.status.idle": "2025-01-21T19:30:14.560658Z",
     "shell.execute_reply": "2025-01-21T19:30:14.559727Z",
     "shell.execute_reply.started": "2025-01-21T19:30:14.555199Z"
    }
   },
   "outputs": [
    {
     "data": {
      "text/plain": [
       "((6224385,), (1025, 12158), (1025, 12158), (6224385,), (6224385,))"
      ]
     },
     "execution_count": 14,
     "metadata": {},
     "output_type": "execute_result"
    }
   ],
   "source": [
    "audio.shape, spec.shape, log_spec.shape, y_harmonic.shape, y_percussive.shape"
   ]
  },
  {
   "cell_type": "code",
   "execution_count": 15,
   "id": "9ebfc75d-1ce9-4af2-af09-fae2f23698d8",
   "metadata": {
    "execution": {
     "iopub.execute_input": "2025-01-21T19:30:14.562354Z",
     "iopub.status.busy": "2025-01-21T19:30:14.562115Z",
     "iopub.status.idle": "2025-01-21T19:30:14.620385Z",
     "shell.execute_reply": "2025-01-21T19:30:14.619695Z",
     "shell.execute_reply.started": "2025-01-21T19:30:14.562332Z"
    }
   },
   "outputs": [],
   "source": [
    "from scipy.io.wavfile import write\n",
    "\n",
    "write(f'{song_name[:-4]}\"_percussive.wav', sr, y_percussive)\n",
    "write(f'{song_name[:-4]}\"_harmonic.wav', sr, y_harmonic)"
   ]
  },
  {
   "cell_type": "code",
   "execution_count": 16,
   "id": "c8cf58b4-0c10-476f-a3cc-6bcf5901da76",
   "metadata": {
    "execution": {
     "iopub.execute_input": "2025-01-21T19:30:26.044783Z",
     "iopub.status.busy": "2025-01-21T19:30:26.043925Z",
     "iopub.status.idle": "2025-01-21T19:30:30.587359Z",
     "shell.execute_reply": "2025-01-21T19:30:30.586444Z",
     "shell.execute_reply.started": "2025-01-21T19:30:26.044749Z"
    }
   },
   "outputs": [
    {
     "name": "stderr",
     "output_type": "stream",
     "text": [
      "/home/omkarsb/anaconda3/envs/beats/lib/python3.10/site-packages/BeatNet/BeatNet.py:74: FutureWarning: You are using `torch.load` with `weights_only=False` (the current default value), which uses the default pickle module implicitly. It is possible to construct malicious pickle data which will execute arbitrary code during unpickling (See https://github.com/pytorch/pytorch/blob/main/SECURITY.md#untrusted-models for more details). In a future release, the default value for `weights_only` will be flipped to `True`. This limits the functions that could be executed during unpickling. Arbitrary objects will no longer be allowed to be loaded via this mode unless they are explicitly allowlisted by the user via `torch.serialization.add_safe_globals`. We recommend you start setting `weights_only=True` for any use case where you don't have full control of the loaded file. Please open an issue on GitHub for any issues related to this experimental feature.\n",
      "  self.model.load_state_dict(torch.load(os.path.join(script_dir, 'models/model_1_weights.pt')), strict=False)\n"
     ]
    }
   ],
   "source": [
    "from BeatNet.BeatNet import BeatNet\n",
    "\n",
    "estimator = BeatNet(1, mode='offline', inference_model='DBN', plot=[], thread=False)\n",
    "\n",
    "Output_harmonic = estimator.process(librosa.load(f'{song_name[:-4]}\"_harmonic.wav')[0])\n",
    "Output_percussion = estimator.process(librosa.load(f'{song_name[:-4]}\"_percussive.wav')[0])"
   ]
  },
  {
   "cell_type": "code",
   "execution_count": 17,
   "id": "e9d5a8a5-ac37-4dbf-96da-05ce26f14c23",
   "metadata": {
    "execution": {
     "iopub.execute_input": "2025-01-21T19:30:37.048887Z",
     "iopub.status.busy": "2025-01-21T19:30:37.048472Z",
     "iopub.status.idle": "2025-01-21T19:30:37.063236Z",
     "shell.execute_reply": "2025-01-21T19:30:37.062414Z",
     "shell.execute_reply.started": "2025-01-21T19:30:37.048849Z"
    }
   },
   "outputs": [],
   "source": [
    "click_track_percussion = librosa.clicks(times=Output_percussion[:,0], sr=sr,\n",
    "                             click_duration=0.25, length=len(audio))"
   ]
  },
  {
   "cell_type": "code",
   "execution_count": 18,
   "id": "67682b2a-f71f-4989-9760-f4644d2898af",
   "metadata": {
    "execution": {
     "iopub.execute_input": "2025-01-21T19:30:37.346290Z",
     "iopub.status.busy": "2025-01-21T19:30:37.345634Z",
     "iopub.status.idle": "2025-01-21T19:30:37.363028Z",
     "shell.execute_reply": "2025-01-21T19:30:37.362215Z",
     "shell.execute_reply.started": "2025-01-21T19:30:37.346262Z"
    }
   },
   "outputs": [],
   "source": [
    "click_track_harmonic = librosa.clicks(times=Output_harmonic[:,0], sr=sr,\n",
    "                             click_duration=0.25, length=len(audio))"
   ]
  },
  {
   "cell_type": "code",
   "execution_count": 19,
   "id": "e72332a0-97a4-4496-8d7f-458e30de728c",
   "metadata": {
    "execution": {
     "iopub.execute_input": "2025-01-21T19:30:53.276443Z",
     "iopub.status.busy": "2025-01-21T19:30:53.275637Z",
     "iopub.status.idle": "2025-01-21T19:30:53.281140Z",
     "shell.execute_reply": "2025-01-21T19:30:53.280427Z",
     "shell.execute_reply.started": "2025-01-21T19:30:53.276411Z"
    }
   },
   "outputs": [
    {
     "data": {
      "text/plain": [
       "6615"
      ]
     },
     "execution_count": 19,
     "metadata": {},
     "output_type": "execute_result"
    }
   ],
   "source": [
    "sr\n",
    "window_duration = 0.3\n",
    "window_length = int(window_duration * sr)\n",
    "window_length"
   ]
  },
  {
   "cell_type": "code",
   "execution_count": 20,
   "id": "2024eace-c605-4409-ba47-51d325099a13",
   "metadata": {
    "execution": {
     "iopub.execute_input": "2025-01-21T19:30:55.750032Z",
     "iopub.status.busy": "2025-01-21T19:30:55.749374Z",
     "iopub.status.idle": "2025-01-21T19:30:55.754703Z",
     "shell.execute_reply": "2025-01-21T19:30:55.754042Z",
     "shell.execute_reply.started": "2025-01-21T19:30:55.749999Z"
    }
   },
   "outputs": [
    {
     "data": {
      "text/plain": [
       "941"
      ]
     },
     "execution_count": 20,
     "metadata": {},
     "output_type": "execute_result"
    }
   ],
   "source": [
    "total_length = click_track_percussion.shape[0]\n",
    "n_iterations = int(total_length / window_length) + 1\n",
    "n_iterations"
   ]
  },
  {
   "cell_type": "code",
   "execution_count": 21,
   "id": "cf0798db-1936-4b46-8d50-77596adf44ef",
   "metadata": {
    "execution": {
     "iopub.execute_input": "2025-01-21T19:30:56.308642Z",
     "iopub.status.busy": "2025-01-21T19:30:56.308275Z",
     "iopub.status.idle": "2025-01-21T19:30:56.357315Z",
     "shell.execute_reply": "2025-01-21T19:30:56.356568Z",
     "shell.execute_reply.started": "2025-01-21T19:30:56.308613Z"
    }
   },
   "outputs": [],
   "source": [
    "indexes_harmonic = np.where((click_track_harmonic != 0) & (np.roll(click_track_harmonic, 1) == 0))[0]\n",
    "indexes_percussion = np.where((click_track_percussion != 0) & (np.roll(click_track_percussion, 1) == 0))[0]\n",
    "\n",
    "click_track_harmonic_oh = np.zeros_like(click_track_harmonic)\n",
    "click_track_percussion_oh = np.zeros_like(click_track_percussion)\n",
    "\n",
    "click_track_harmonic_oh[indexes_harmonic] = 1.0\n",
    "click_track_percussion_oh[indexes_percussion] = 1.0"
   ]
  },
  {
   "cell_type": "code",
   "execution_count": 22,
   "id": "84ef2700-0c75-458d-b8a3-f883ec49c801",
   "metadata": {
    "execution": {
     "iopub.execute_input": "2025-01-21T19:30:57.552134Z",
     "iopub.status.busy": "2025-01-21T19:30:57.551662Z",
     "iopub.status.idle": "2025-01-21T19:30:57.555983Z",
     "shell.execute_reply": "2025-01-21T19:30:57.555174Z",
     "shell.execute_reply.started": "2025-01-21T19:30:57.552096Z"
    }
   },
   "outputs": [],
   "source": [
    "# final_track = np.array([], dtype=float)\n",
    "# for idx in range(n_iterations) :\n",
    "#     percussion_slice = click_track_percussion_oh[idx*window_length:min((idx+1)*window_length, total_length)]\n",
    "#     harmonic_slice = click_track_harmonic_oh[idx*window_length:min((idx+1)*window_length, total_length)]\n",
    "#     if harmonic_slice.sum() == 1 and percussion_slice.sum() == 1:\n",
    "#         final_track = np.concatenate([final_track, percussion_slice], axis = 0)\n",
    "#     else :\n",
    "#         final_track = np.concatenate([final_track, np.zeros_like(percussion_slice)], axis = 0)"
   ]
  },
  {
   "cell_type": "code",
   "execution_count": 23,
   "id": "dac8e070-462e-4a8c-81a8-c345bd02811e",
   "metadata": {
    "execution": {
     "iopub.execute_input": "2025-01-21T19:30:57.809561Z",
     "iopub.status.busy": "2025-01-21T19:30:57.809202Z",
     "iopub.status.idle": "2025-01-21T19:30:57.827962Z",
     "shell.execute_reply": "2025-01-21T19:30:57.827061Z",
     "shell.execute_reply.started": "2025-01-21T19:30:57.809535Z"
    }
   },
   "outputs": [],
   "source": [
    "final_track = np.array([], dtype=float)\n",
    "final_indexes = []\n",
    "for idx in indexes_percussion :\n",
    "    left_index = max(0, idx - int(window_length / 2))\n",
    "    right_index= min(total_length, idx + int(window_length / 2))\n",
    "    harmonic_slice = click_track_harmonic_oh[left_index:right_index+1]\n",
    "    if harmonic_slice.sum() == 1 :\n",
    "        final_indexes.append(idx)\n",
    "\n",
    "final_track = np.zeros_like(click_track_harmonic_oh)\n",
    "final_track[final_indexes] = 1"
   ]
  },
  {
   "cell_type": "code",
   "execution_count": 24,
   "id": "121288d7-0695-4904-a96c-9a16a2c40a83",
   "metadata": {
    "execution": {
     "iopub.execute_input": "2025-01-21T19:30:59.604874Z",
     "iopub.status.busy": "2025-01-21T19:30:59.604153Z",
     "iopub.status.idle": "2025-01-21T19:30:59.616630Z",
     "shell.execute_reply": "2025-01-21T19:30:59.615889Z",
     "shell.execute_reply.started": "2025-01-21T19:30:59.604839Z"
    }
   },
   "outputs": [],
   "source": [
    "final_track = np.zeros_like(click_track_harmonic_oh)\n",
    "final_track[final_indexes] = 1"
   ]
  },
  {
   "cell_type": "code",
   "execution_count": 25,
   "id": "c1903da6-313d-4429-ad7d-f2ee3f08f05d",
   "metadata": {
    "execution": {
     "iopub.execute_input": "2025-01-21T19:31:00.200876Z",
     "iopub.status.busy": "2025-01-21T19:31:00.200510Z",
     "iopub.status.idle": "2025-01-21T19:31:01.212757Z",
     "shell.execute_reply": "2025-01-21T19:31:01.211881Z",
     "shell.execute_reply.started": "2025-01-21T19:31:00.200849Z"
    },
    "scrolled": true
   },
   "outputs": [
    {
     "data": {
      "text/plain": [
       "(191, 191.0)"
      ]
     },
     "execution_count": 25,
     "metadata": {},
     "output_type": "execute_result"
    }
   ],
   "source": [
    "len(final_indexes), sum(final_track)"
   ]
  },
  {
   "cell_type": "code",
   "execution_count": 29,
   "id": "d059b67b-2508-4181-a69a-5b0225635c7f",
   "metadata": {
    "execution": {
     "iopub.execute_input": "2025-01-21T19:37:52.287763Z",
     "iopub.status.busy": "2025-01-21T19:37:52.287339Z",
     "iopub.status.idle": "2025-01-21T19:37:52.291531Z",
     "shell.execute_reply": "2025-01-21T19:37:52.290820Z",
     "shell.execute_reply.started": "2025-01-21T19:37:52.287734Z"
    }
   },
   "outputs": [],
   "source": [
    "from collections import Counter"
   ]
  },
  {
   "cell_type": "code",
   "execution_count": 45,
   "id": "94f7939a-0652-4ae4-a84d-7f6eb263a74c",
   "metadata": {
    "execution": {
     "iopub.execute_input": "2025-01-21T19:53:07.248707Z",
     "iopub.status.busy": "2025-01-21T19:53:07.247858Z",
     "iopub.status.idle": "2025-01-21T19:53:07.254294Z",
     "shell.execute_reply": "2025-01-21T19:53:07.253463Z",
     "shell.execute_reply.started": "2025-01-21T19:53:07.248676Z"
    }
   },
   "outputs": [
    {
     "data": {
      "text/plain": [
       "Counter({23814: 69,\n",
       "         23373: 63,\n",
       "         22932: 19,\n",
       "         24255: 16,\n",
       "         23815: 7,\n",
       "         23372: 4,\n",
       "         23813: 4,\n",
       "         23374: 2,\n",
       "         1628613: 1,\n",
       "         22490: 1,\n",
       "         24256: 1,\n",
       "         24254: 1,\n",
       "         24696: 1,\n",
       "         21609: 1})"
      ]
     },
     "execution_count": 45,
     "metadata": {},
     "output_type": "execute_result"
    }
   ],
   "source": [
    "Counter([(final_indexes[i + 1] - final_indexes[i]) for i in range(len(final_indexes) - 1)])"
   ]
  },
  {
   "cell_type": "code",
   "execution_count": 32,
   "id": "3be5c6f2-8840-4589-9797-10b577b52a9b",
   "metadata": {
    "execution": {
     "iopub.execute_input": "2025-01-21T19:49:50.938471Z",
     "iopub.status.busy": "2025-01-21T19:49:50.938117Z",
     "iopub.status.idle": "2025-01-21T19:49:50.945990Z",
     "shell.execute_reply": "2025-01-21T19:49:50.945181Z",
     "shell.execute_reply.started": "2025-01-21T19:49:50.938444Z"
    }
   },
   "outputs": [],
   "source": [
    "import numpy as np\n",
    "from collections import Counter\n",
    "\n",
    "def correct_beat_pattern(beats, tolerance=0.2):\n",
    "    \"\"\"\n",
    "    Corrects a binary beat pattern by identifying the true interval and phase.\n",
    "    \n",
    "    Args:\n",
    "        beats: List[int] - Binary array where 1 represents a beat\n",
    "        tolerance: float - Relative tolerance for considering intervals as equal\n",
    "        \n",
    "    Returns:\n",
    "        List[int] - Corrected beat pattern\n",
    "    \"\"\"\n",
    "    # Find positions of all beats\n",
    "    beat_positions = np.where(beats)[0]\n",
    "    \n",
    "    if len(beat_positions) < 2:\n",
    "        return beats\n",
    "    \n",
    "    # Calculate intervals between consecutive beats\n",
    "    intervals = np.diff(beat_positions)\n",
    "    \n",
    "    # Group similar intervals to find the most common one\n",
    "    rounded_intervals = [round(x) for x in intervals]\n",
    "    interval_counts = Counter(rounded_intervals)\n",
    "    true_interval = interval_counts.most_common(1)[0][0]\n",
    "    \n",
    "    # Create corrected beat pattern\n",
    "    corrected = np.zeros_like(beats)\n",
    "    \n",
    "    # Find the optimal starting position by trying different phases\n",
    "    best_score = -1\n",
    "    best_offset = 0\n",
    "    \n",
    "    # Try different starting positions within one interval\n",
    "    for offset in range(true_interval):\n",
    "        score = 0\n",
    "        test_positions = np.arange(offset, len(beats), true_interval)\n",
    "        # Count how many original beats align with this phase\n",
    "        for pos in test_positions:\n",
    "            if pos < len(beats) and beats[int(pos)] == 1:\n",
    "                score += 1\n",
    "        \n",
    "        if score > best_score:\n",
    "            best_score = score\n",
    "            best_offset = offset\n",
    "    \n",
    "    # Place beats at regular intervals from the best starting position\n",
    "    beat_positions = np.arange(best_offset, len(beats), true_interval)\n",
    "    for pos in beat_positions:\n",
    "        corrected[int(pos)] = 1\n",
    "    \n",
    "    return corrected.tolist()"
   ]
  },
  {
   "cell_type": "code",
   "execution_count": null,
   "id": "205c3279-54e7-40ce-86e0-b4c34062bb5f",
   "metadata": {},
   "outputs": [],
   "source": [
    "# Example usage and testing\n",
    "# Test case 1: Pattern starting with silence\n",
    "test1 = [0, 0, 1, 0, 0, 1, 0, 0, 1, 0, 0]\n",
    "print(\"Test 1 - Pattern starting with silence:\")\n",
    "print(\"Original:\", test1)\n",
    "print(\"Corrected:\", correct_beat_pattern(test1))\n",
    "\n",
    "# Test case 2: Pattern with noise and arbitrary phase\n",
    "test2 = [0, 1, 0, 0, 1, 1, 0, 1, 0, 0, 1, 0]\n",
    "print(\"\\nTest 2 - Pattern with noise:\")\n",
    "print(\"Original:\", test2)\n",
    "print(\"Corrected:\", correct_beat_pattern(test2))\n",
    "\n",
    "# Test case 3: Your original example\n",
    "test3 = [0, 0, 1, 0, 1, 0, 1, 0, 0, 1, 0, 1, 0, 0, 1]\n",
    "print(\"\\nTest 3 - Original example:\")\n",
    "print(\"Original:\", test3)\n",
    "print(\"Corrected:\", correct_beat_pattern(test3))"
   ]
  },
  {
   "cell_type": "code",
   "execution_count": 36,
   "id": "45ececdc-bf4a-48aa-9008-7252f799fdfe",
   "metadata": {
    "execution": {
     "iopub.execute_input": "2025-01-21T19:50:41.635457Z",
     "iopub.status.busy": "2025-01-21T19:50:41.634655Z",
     "iopub.status.idle": "2025-01-21T19:50:54.588382Z",
     "shell.execute_reply": "2025-01-21T19:50:54.587540Z",
     "shell.execute_reply.started": "2025-01-21T19:50:41.635426Z"
    }
   },
   "outputs": [],
   "source": [
    "cfinal_track = correct_beat_pattern(final_track)"
   ]
  },
  {
   "cell_type": "code",
   "execution_count": 39,
   "id": "131a5f26-cdee-4c55-9e07-b63b74c7ddfa",
   "metadata": {
    "execution": {
     "iopub.execute_input": "2025-01-21T19:51:08.784773Z",
     "iopub.status.busy": "2025-01-21T19:51:08.784072Z",
     "iopub.status.idle": "2025-01-21T19:51:09.051075Z",
     "shell.execute_reply": "2025-01-21T19:51:09.050321Z",
     "shell.execute_reply.started": "2025-01-21T19:51:08.784732Z"
    }
   },
   "outputs": [
    {
     "data": {
      "text/plain": [
       "262.0"
      ]
     },
     "execution_count": 39,
     "metadata": {},
     "output_type": "execute_result"
    }
   ],
   "source": [
    "np.array(cfinal_track).sum()"
   ]
  },
  {
   "cell_type": "code",
   "execution_count": null,
   "id": "acb0610e-5f63-4c47-8372-4e08d50ab46c",
   "metadata": {},
   "outputs": [],
   "source": [
    "Counter([(cfinal_track[i + 1] - cfinal_track[i]) / sr for i in range(len(final_indexes) - 1)])"
   ]
  },
  {
   "cell_type": "code",
   "execution_count": 42,
   "id": "062fec13-2e66-47b9-9121-199eaf5dc9ce",
   "metadata": {
    "execution": {
     "iopub.execute_input": "2025-01-21T19:52:46.937306Z",
     "iopub.status.busy": "2025-01-21T19:52:46.936985Z",
     "iopub.status.idle": "2025-01-21T19:52:47.220340Z",
     "shell.execute_reply": "2025-01-21T19:52:47.219501Z",
     "shell.execute_reply.started": "2025-01-21T19:52:46.937281Z"
    }
   },
   "outputs": [],
   "source": [
    "beat_positions = np.where(cfinal_track)[0]\n",
    "\n",
    "# Calculate intervals between consecutive beats\n",
    "intervals = np.diff(beat_positions)"
   ]
  },
  {
   "cell_type": "code",
   "execution_count": 44,
   "id": "e619497c-ee58-4bd7-8107-53e6a967d6e6",
   "metadata": {
    "execution": {
     "iopub.execute_input": "2025-01-21T19:52:55.794262Z",
     "iopub.status.busy": "2025-01-21T19:52:55.793590Z",
     "iopub.status.idle": "2025-01-21T19:52:55.799344Z",
     "shell.execute_reply": "2025-01-21T19:52:55.798504Z",
     "shell.execute_reply.started": "2025-01-21T19:52:55.794232Z"
    }
   },
   "outputs": [
    {
     "data": {
      "text/plain": [
       "Counter({23814: 261})"
      ]
     },
     "execution_count": 44,
     "metadata": {},
     "output_type": "execute_result"
    }
   ],
   "source": [
    "Counter(intervals)"
   ]
  },
  {
   "cell_type": "code",
   "execution_count": null,
   "id": "ad918c8f-05e2-4a17-b97d-886073c01ffd",
   "metadata": {},
   "outputs": [],
   "source": []
  }
 ],
 "metadata": {
  "kernelspec": {
   "display_name": "beats",
   "language": "python",
   "name": "beats"
  },
  "language_info": {
   "codemirror_mode": {
    "name": "ipython",
    "version": 3
   },
   "file_extension": ".py",
   "mimetype": "text/x-python",
   "name": "python",
   "nbconvert_exporter": "python",
   "pygments_lexer": "ipython3",
   "version": "3.10.16"
  }
 },
 "nbformat": 4,
 "nbformat_minor": 5
}
